{
 "cells": [
  {
   "cell_type": "code",
   "execution_count": 1,
   "metadata": {},
   "outputs": [],
   "source": [
    "import os\n",
    "os.chdir(\"../\")"
   ]
  },
  {
   "cell_type": "code",
   "execution_count": 2,
   "metadata": {},
   "outputs": [
    {
     "name": "stdout",
     "output_type": "stream",
     "text": [
      "/Users/pandhari/Coffee_Shop_ChatBot/Backend\n"
     ]
    }
   ],
   "source": [
    "print(os.getcwd())"
   ]
  },
  {
   "cell_type": "code",
   "execution_count": 3,
   "metadata": {},
   "outputs": [
    {
     "data": {
      "text/plain": [
       "True"
      ]
     },
     "execution_count": 3,
     "metadata": {},
     "output_type": "execute_result"
    }
   ],
   "source": [
    "from dotenv import load_dotenv\n",
    "load_dotenv()"
   ]
  },
  {
   "cell_type": "code",
   "execution_count": 4,
   "metadata": {},
   "outputs": [],
   "source": [
    "# 📁 File: Backend/pydantic_schemas/ordertakingagents_tools_schemas.py\n",
    "from pydantic import BaseModel, Field\n",
    "from typing import List, Optional\n",
    "\n",
    "class OrderItem(BaseModel):\n",
    "    \"\"\"Represents a raw order request with item name and quantity from the user.\"\"\"\n",
    "    name: str = Field(..., description=\"Name of the item ordered\")\n",
    "    quantity: int = Field(..., description=\"Quantity of the item ordered\")\n",
    "\n",
    "class ProductItem(BaseModel):\n",
    "    \"\"\"Represents an item in the order after pricing and availability are confirmed.\"\"\"\n",
    "    name: str = Field(..., description=\"Name of the product\")\n",
    "    quantity: int = Field(..., description=\"Quantity of the product\")\n",
    "    per_unit_price: float = Field(..., description=\"Price per single unit of the product\")\n",
    "\n",
    "class ProductOrderInput(BaseModel):\n",
    "    \"\"\"Input schema for calculating final price based on confirmed items and prices.\"\"\"\n",
    "    items: List[ProductItem] = Field(..., description=\"List of confirmed items with quantity and per-unit price\")\n",
    "\n",
    "class CheckAvailabilityInput(BaseModel):\n",
    "    \"\"\"Input schema for checking availability of multiple product names.\"\"\"\n",
    "    product_names: List[str] = Field(..., description=\"List of product names to check availability for\")\n",
    "\n",
    "class ProductAvailability(BaseModel):\n",
    "    \"\"\"Availability status for a single product.\"\"\"\n",
    "    name: str = Field(..., description=\"Name of the product\")\n",
    "    available: bool = Field(..., description=\"Availability status\")\n",
    "    reason: Optional[str] = Field(None, description=\"Optional reason if not available\")\n",
    "\n",
    "class CheckAvailabilityOutput(BaseModel):\n",
    "    \"\"\"Output schema containing the availability status for a list of products.\"\"\"\n",
    "    results: List[ProductAvailability] = Field(..., description=\"List of product availability statuses\")\n",
    "\n",
    "class GetPriceInput(BaseModel):\n",
    "    \"\"\"Input schema for requesting prices of product names.\"\"\"\n",
    "    product_names: List[str] = Field(..., description=\"List of product names to retrieve prices for\")\n",
    "\n",
    "class ProductPrice(BaseModel):\n",
    "    \"\"\"Per-unit price info for a single product.\"\"\"\n",
    "    name: str = Field(..., description=\"Name of the product\")\n",
    "    price: float = Field(..., description=\"Price per single unit\")\n",
    "\n",
    "class GetPriceOutput(BaseModel):\n",
    "    \"\"\"Output schema containing prices for a list of products.\"\"\"\n",
    "    prices: List[ProductPrice] = Field(..., description=\"List of product price data\")\n",
    "\n",
    "class FinalPriceOutput(BaseModel):\n",
    "    \"\"\"Final computed total after applying quantity and per-unit price.\"\"\"\n",
    "    total: float = Field(..., description=\"Final total price for the order\")"
   ]
  },
  {
   "cell_type": "code",
   "execution_count": 5,
   "metadata": {},
   "outputs": [],
   "source": [
    "class ProductInfo(BaseModel):\n",
    "    name: str\n",
    "    available: bool\n",
    "    price: Optional[float] = None\n",
    "\n",
    "class ProductInfoOutput(BaseModel):\n",
    "    \"\"\"Output schema containing availability and price information for a list of products.\"\"\"\n",
    "    results: List[ProductInfo]"
   ]
  },
  {
   "cell_type": "code",
   "execution_count": 6,
   "metadata": {},
   "outputs": [],
   "source": [
    "class OrderAgentState(BaseModel):\n",
    "    \"\"\"Shared state structure passed between LangGraph nodes for the order-taking agent.\"\"\"\n",
    "    user_input: Optional[str] = Field(None, description=\"The original user message\")\n",
    "    parsed_items: Optional[List[ProductItem]] = Field(None, description=\"List of parsed items and their quantities from user input\")\n",
    "    available_items: Optional[CheckAvailabilityOutput] = Field(None, description=\"Availability results for parsed products\")\n",
    "    product_prices: Optional[GetPriceOutput] = Field(None, description=\"Price data for available items\")\n",
    "    final_price: Optional[FinalPriceOutput] = Field(None, description=\"Final total calculated after pricing\")\n",
    "    confirmed: Optional[bool] = Field(False, description=\"Indicates whether the user has confirmed the final order\")"
   ]
  },
  {
   "cell_type": "code",
   "execution_count": 7,
   "metadata": {},
   "outputs": [],
   "source": [
    "# 📁 File: Backend/agents/order_prompt.py\n",
    "from langchain.prompts import ChatPromptTemplate\n",
    "\n",
    "order_prompt = ChatPromptTemplate.from_messages([\n",
    "    (\"system\", \"\"\"\n",
    "You are a friendly and efficient order-taking assistant for Merry's Way coffee shop.\n",
    "\n",
    "Your job is to:\n",
    "1. Understand the items and their quantities from user input.\n",
    "2. Check availability using the CheckAvailabilityTool.\n",
    "3. Get prices for available items using GetPriceTool.\n",
    "4. Calculate the total using CalculateFinalPriceTool.\n",
    "5. Handle user edits after presenting the total (e.g. add, remove, update quantity).\n",
    "6. Present the order summary clearly using emojis: ✅ for available, ❌ for unavailable, 💰 for price, 🧾 for total.\n",
    "7. Ask for final confirmation before placing the order.\n",
    "\n",
    "⚠️ Important guidelines:\n",
    "- Only use available tools for checking and pricing. Do not guess.\n",
    "- Be conversational and polite. If items are missing or unavailable, suggest alternatives.\n",
    "- Do not proceed with pricing or final calculation until availability is confirmed.\n",
    "\n",
    "💬 Example:\n",
    "User: I want 2 lattes and a muffin.\n",
    "\n",
    "✅ Latte x2 — ₹120 each\n",
    "✅ Muffin x1 — ₹80 each\n",
    "\n",
    "🧾 Total: ₹320\n",
    "Would you like to confirm this order or make changes?\n",
    "\"\"\"),\n",
    "    (\"placeholder\", \"{messages}\")\n",
    "])"
   ]
  },
  {
   "cell_type": "code",
   "execution_count": 8,
   "metadata": {},
   "outputs": [
    {
     "name": "stderr",
     "output_type": "stream",
     "text": [
      "/opt/anaconda3/envs/ai/lib/python3.10/site-packages/tqdm/auto.py:21: TqdmWarning: IProgress not found. Please update jupyter and ipywidgets. See https://ipywidgets.readthedocs.io/en/stable/user_install.html\n",
      "  from .autonotebook import tqdm as notebook_tqdm\n"
     ]
    }
   ],
   "source": [
    "from langchain_pinecone import PineconeVectorStore\n",
    "from langchain_huggingface import HuggingFaceEmbeddings\n",
    "from pinecone import Pinecone, ServerlessSpec\n",
    "# Setup embedding + vectorstore + pipeline once\n",
    "embedding_model = HuggingFaceEmbeddings(model_name=\"BAAI/bge-base-en-v1.5\")\n",
    "pc = Pinecone(api_key=os.getenv(\"PINECONE_API_KEY\"))\n",
    "index_name = \"coffee-products\"\n",
    "if index_name not in pc.list_indexes().names():\n",
    "    pc.create_index(\n",
    "        index_name,\n",
    "        dimension=768,\n",
    "        metric=\"cosine\",\n",
    "        spec=ServerlessSpec(cloud=\"aws\", region=\"us-east-1\")\n",
    "    )\n",
    "index = pc.Index(index_name)\n",
    "\n",
    "vectorstore = PineconeVectorStore(\n",
    "    index=index,\n",
    "    embedding=embedding_model,\n",
    "    text_key=\"text\"\n",
    ")"
   ]
  },
  {
   "cell_type": "code",
   "execution_count": 9,
   "metadata": {},
   "outputs": [],
   "source": [
    "# 📁 File: Backend/tools/order_tools.py\n",
    "# from Backend.pydantic_schemas.ordertakingagents_tools_schemas import *\n",
    "\n",
    "def get_product_info_tool(product_names: List[str]) -> ProductInfoOutput:\n",
    "    results = []\n",
    "    for name in product_names:\n",
    "        name_clean = name.strip().lower()\n",
    "\n",
    "        matches = vectorstore.similarity_search_with_score(\n",
    "            query=name_clean,\n",
    "            k=1,\n",
    "            filter={\"name\": name_clean}\n",
    "        )\n",
    "\n",
    "        if matches:\n",
    "            doc, score = matches[0]\n",
    "            metadata = doc.metadata\n",
    "            is_available = metadata.get(\"available\", False)\n",
    "            price = metadata.get(\"price\", None)\n",
    "\n",
    "            results.append(ProductInfo(\n",
    "                name=name,\n",
    "                available=is_available,\n",
    "                price=price if is_available else None,\n",
    "                reason=None if is_available else \"Not available\"\n",
    "            ))\n",
    "        else:\n",
    "            results.append(ProductInfo(\n",
    "                name=name,\n",
    "                available=False,\n",
    "                price=None,\n",
    "                reason=\"Not found in vector store\"\n",
    "            ))\n",
    "\n",
    "    return ProductInfoOutput(results=results)\n",
    "\n",
    "\n",
    "def calculate_final_price_tool(input: ProductOrderInput) -> FinalPriceOutput:\n",
    "    total = sum(item.quantity * item.per_unit_price for item in input.items)\n",
    "    return FinalPriceOutput(total=total)\n"
   ]
  },
  {
   "cell_type": "code",
   "execution_count": 10,
   "metadata": {},
   "outputs": [],
   "source": [
    "# 📁 File: Backend/graph/order_graph.py\n",
    "from langgraph.graph import StateGraph, END\n",
    "# from Backend.pydantic_schemas.ordertakingagents_tools_schemas import *\n",
    "# from Backend.tools.order_tools import get_product_info_tool, calculate_final_price_tool\n",
    "\n",
    "# --- Nodes ---\n",
    "def parse_input(state: OrderAgentState) -> OrderAgentState:\n",
    "    # Simple simulated parse for now\n",
    "    parsed = [ProductItem(name=\"Latte\", quantity=2, per_unit_price=0)]\n",
    "    return state.copy(update={\"parsed_items\": parsed})\n",
    "\n",
    "def get_product_info(state: OrderAgentState) -> OrderAgentState:\n",
    "    names = [item.name for item in state.parsed_items]\n",
    "    info_result = get_product_info_tool(names)\n",
    "\n",
    "    # Merge with parsed quantities\n",
    "    info_lookup = {info.name.lower(): info for info in info_result.results}\n",
    "    updated_items = []\n",
    "    for item in state.parsed_items:\n",
    "        info = info_lookup.get(item.name.lower())\n",
    "        if info and info.available and info.price is not None:\n",
    "            updated_items.append(ProductItem(\n",
    "                name=item.name,\n",
    "                quantity=item.quantity,\n",
    "                per_unit_price=info.price\n",
    "            ))\n",
    "\n",
    "    return state.copy(update={\"parsed_items\": updated_items})\n",
    "\n",
    "def calculate_total(state: OrderAgentState) -> OrderAgentState:\n",
    "    total = calculate_final_price_tool(ProductOrderInput(items=state.parsed_items))\n",
    "    return state.copy(update={\"final_price\": total})\n",
    "\n",
    "def summarize_and_ask(state: OrderAgentState) -> OrderAgentState:\n",
    "    summary = \"\"\n",
    "    for item in state.parsed_items:\n",
    "        summary += f\"✅ {item.name} x{item.quantity} — ₹{item.per_unit_price} each\\n\"\n",
    "    summary += f\"\\n🧾 Total: ₹{state.final_price.total}\\n\\nWould you like to confirm this order or make changes?\"\n",
    "    print(summary)\n",
    "    return state\n",
    "\n",
    "def handle_edit_or_confirm(state: OrderAgentState) -> str:\n",
    "    user_reply = input(\"Confirm order? (yes to confirm, anything else to edit): \").strip().lower()\n",
    "    if user_reply in [\"yes\", \"y\"]:\n",
    "        state.confirmed = True\n",
    "        return END\n",
    "    else:\n",
    "        return \"parse_input\""
   ]
  },
  {
   "cell_type": "code",
   "execution_count": 11,
   "metadata": {},
   "outputs": [],
   "source": [
    "# --- LangGraph ---\n",
    "graph = StateGraph(OrderAgentState)\n",
    "graph.add_node(\"parse_input\", parse_input)\n",
    "graph.add_node(\"get_product_info\", get_product_info)\n",
    "graph.add_node(\"calculate_total\", calculate_total)\n",
    "graph.add_node(\"summarize_and_ask\", summarize_and_ask)\n",
    "graph.add_conditional_edges(\"summarize_and_ask\", handle_edit_or_confirm, {\"parse_input\": \"parse_input\", END: END})\n",
    "\n",
    "graph.set_entry_point(\"parse_input\")\n",
    "graph.add_edge(\"parse_input\", \"get_product_info\")\n",
    "graph.add_edge(\"get_product_info\", \"calculate_total\")\n",
    "graph.add_edge(\"calculate_total\", \"summarize_and_ask\")\n",
    "\n",
    "order_agent = graph.compile()"
   ]
  },
  {
   "cell_type": "code",
   "execution_count": 1,
   "metadata": {},
   "outputs": [
    {
     "name": "stdout",
     "output_type": "stream",
     "text": [
      "/Users/pandhari/Desktop/Coffee_Shop_ChatBot/Backend/experiments\n"
     ]
    }
   ],
   "source": [
    "import os\n",
    "print(os.getcwd())\n",
    "os.chdir(\"../\")\n",
    "os.chdir(\"../\")"
   ]
  },
  {
   "cell_type": "code",
   "execution_count": 2,
   "metadata": {},
   "outputs": [
    {
     "name": "stdout",
     "output_type": "stream",
     "text": [
      "/Users/pandhari/Desktop/Coffee_Shop_ChatBot\n"
     ]
    }
   ],
   "source": [
    "print(os.getcwd())"
   ]
  },
  {
   "cell_type": "code",
   "execution_count": 3,
   "metadata": {},
   "outputs": [
    {
     "name": "stderr",
     "output_type": "stream",
     "text": [
      "/opt/anaconda3/envs/ai/lib/python3.10/site-packages/tqdm/auto.py:21: TqdmWarning: IProgress not found. Please update jupyter and ipywidgets. See https://ipywidgets.readthedocs.io/en/stable/user_install.html\n",
      "  from .autonotebook import tqdm as notebook_tqdm\n"
     ]
    }
   ],
   "source": [
    "from Backend.graph.coffee_shop_graph import build_coffee_shop_graph\n",
    "build = build_coffee_shop_graph()"
   ]
  },
  {
   "cell_type": "code",
   "execution_count": 4,
   "metadata": {},
   "outputs": [
    {
     "data": {
      "image/png": "[encoded data removed]",
      "text/plain": [
       "<IPython.core.display.Image object>"
      ]
     },
     "metadata": {},
     "output_type": "display_data"
    }
   ],
   "source": [
    "from IPython.display import Image , display\n",
    "display(Image(build.get_graph(xray=True).draw_mermaid_png()))"
   ]
  },
  {
   "cell_type": "code",
   "execution_count": 11,
   "metadata": {},
   "outputs": [
    {
     "name": "stdout",
     "output_type": "stream",
     "text": [
      "\n",
      "☕ Welcome to the Coffee Shop Bot! Ask anything or type 'exit' to quit.\n",
      "\n"
     ]
    },
    {
     "name": "stderr",
     "output_type": "stream",
     "text": [
      "/var/folders/42/94lj0cp519ncj7_m79j3_h3m0000gn/T/ipykernel_54669/914286412.py:10: PydanticDeprecatedSince20: The `copy` method is deprecated; use `model_copy` instead. See the docstring of `BaseModel.copy` for details about how to handle `include` and `exclude`. Deprecated in Pydantic V2.0 to be removed in V3.0. See Pydantic V2 Migration Guide at https://errors.pydantic.dev/2.11/migration/\n",
      "  return state.copy(update={\"parsed_items\": parsed})\n",
      "/var/folders/42/94lj0cp519ncj7_m79j3_h3m0000gn/T/ipykernel_54669/914286412.py:15: PydanticDeprecatedSince20: The `copy` method is deprecated; use `model_copy` instead. See the docstring of `BaseModel.copy` for details about how to handle `include` and `exclude`. Deprecated in Pydantic V2.0 to be removed in V3.0. See Pydantic V2 Migration Guide at https://errors.pydantic.dev/2.11/migration/\n",
      "  return state.copy(update={\"available_items\": output})\n",
      "/var/folders/42/94lj0cp519ncj7_m79j3_h3m0000gn/T/ipykernel_54669/914286412.py:26: PydanticDeprecatedSince20: The `copy` method is deprecated; use `model_copy` instead. See the docstring of `BaseModel.copy` for details about how to handle `include` and `exclude`. Deprecated in Pydantic V2.0 to be removed in V3.0. See Pydantic V2 Migration Guide at https://errors.pydantic.dev/2.11/migration/\n",
      "  return state.copy(update={\"product_prices\": price_result, \"parsed_items\": priced_items})\n",
      "/var/folders/42/94lj0cp519ncj7_m79j3_h3m0000gn/T/ipykernel_54669/914286412.py:30: PydanticDeprecatedSince20: The `copy` method is deprecated; use `model_copy` instead. See the docstring of `BaseModel.copy` for details about how to handle `include` and `exclude`. Deprecated in Pydantic V2.0 to be removed in V3.0. See Pydantic V2 Migration Guide at https://errors.pydantic.dev/2.11/migration/\n",
      "  return state.copy(update={\"final_price\": total})\n"
     ]
    },
    {
     "name": "stdout",
     "output_type": "stream",
     "text": [
      "✅ Latte x2 — ₹120.0 each\n",
      "\n",
      "🧾 Total: ₹240.0\n",
      "\n",
      "Would you like to confirm this order or make changes?\n",
      "\n",
      "Done. Waiting for your next command...\n",
      "\n"
     ]
    },
    {
     "name": "stderr",
     "output_type": "stream",
     "text": [
      "/var/folders/42/94lj0cp519ncj7_m79j3_h3m0000gn/T/ipykernel_54669/914286412.py:10: PydanticDeprecatedSince20: The `copy` method is deprecated; use `model_copy` instead. See the docstring of `BaseModel.copy` for details about how to handle `include` and `exclude`. Deprecated in Pydantic V2.0 to be removed in V3.0. See Pydantic V2 Migration Guide at https://errors.pydantic.dev/2.11/migration/\n",
      "  return state.copy(update={\"parsed_items\": parsed})\n",
      "/var/folders/42/94lj0cp519ncj7_m79j3_h3m0000gn/T/ipykernel_54669/914286412.py:15: PydanticDeprecatedSince20: The `copy` method is deprecated; use `model_copy` instead. See the docstring of `BaseModel.copy` for details about how to handle `include` and `exclude`. Deprecated in Pydantic V2.0 to be removed in V3.0. See Pydantic V2 Migration Guide at https://errors.pydantic.dev/2.11/migration/\n",
      "  return state.copy(update={\"available_items\": output})\n",
      "/var/folders/42/94lj0cp519ncj7_m79j3_h3m0000gn/T/ipykernel_54669/914286412.py:26: PydanticDeprecatedSince20: The `copy` method is deprecated; use `model_copy` instead. See the docstring of `BaseModel.copy` for details about how to handle `include` and `exclude`. Deprecated in Pydantic V2.0 to be removed in V3.0. See Pydantic V2 Migration Guide at https://errors.pydantic.dev/2.11/migration/\n",
      "  return state.copy(update={\"product_prices\": price_result, \"parsed_items\": priced_items})\n",
      "/var/folders/42/94lj0cp519ncj7_m79j3_h3m0000gn/T/ipykernel_54669/914286412.py:30: PydanticDeprecatedSince20: The `copy` method is deprecated; use `model_copy` instead. See the docstring of `BaseModel.copy` for details about how to handle `include` and `exclude`. Deprecated in Pydantic V2.0 to be removed in V3.0. See Pydantic V2 Migration Guide at https://errors.pydantic.dev/2.11/migration/\n",
      "  return state.copy(update={\"final_price\": total})\n"
     ]
    },
    {
     "name": "stdout",
     "output_type": "stream",
     "text": [
      "✅ Latte x2 — ₹120.0 each\n",
      "\n",
      "🧾 Total: ₹240.0\n",
      "\n",
      "Would you like to confirm this order or make changes?\n",
      "✅ Latte x2 — ₹120.0 each\n",
      "\n",
      "🧾 Total: ₹240.0\n",
      "\n",
      "Would you like to confirm this order or make changes?\n",
      "✅ Latte x2 — ₹120.0 each\n",
      "\n",
      "🧾 Total: ₹240.0\n",
      "\n",
      "Would you like to confirm this order or make changes?\n",
      "\n",
      "Done. Waiting for your next command...\n",
      "\n"
     ]
    }
   ],
   "source": [
    "# 📁 File: Backend/main.py\n",
    "# from Backend.graph.order_graph import order_agent\n",
    "\n",
    "if __name__ == \"__main__\":\n",
    "    print(\"\\n☕ Welcome to the Coffee Shop Bot! Ask anything or type 'exit' to quit.\\n\")\n",
    "    while True:\n",
    "        user_input = input(\"You: \")\n",
    "        if user_input.lower() in [\"exit\", \"quit\"]:\n",
    "            break\n",
    "        state = order_agent.invoke({\"user_input\": user_input})\n",
    "        print(\"\\nDone. Waiting for your next command...\\n\")"
   ]
  },
  {
   "cell_type": "code",
   "execution_count": null,
   "metadata": {},
   "outputs": [],
   "source": [
    "from langchain_groq import ChatGroq\n",
    "from langchain.output_parsers import PydanticOutputParser\n",
    "from langchain.prompts import PromptTemplate\n",
    "from langchain.schema import HumanMessage\n",
    "\n",
    "llm = ChatGroq(model=os.getenv(\"GROQ_MODEL_NAME\"), temperature=0)\n",
    "\n",
    "parser = PydanticOutputParser(pydantic_object=List[ProductItem])\n",
    "\n",
    "prompt_template = PromptTemplate.from_template(\n",
    "    \"Extract all order items and their quantities from this message:\\n\\n{user_input}\\n\\n{format_instructions}\"\n",
    ")"
   ]
  },
  {
   "cell_type": "code",
   "execution_count": 13,
   "metadata": {},
   "outputs": [],
   "source": [
    "def parse_input(state: OrderAgentState) -> OrderAgentState:\n",
    "    prompt = prompt_template.format_prompt(\n",
    "        user_input=state.user_input,\n",
    "        format_instructions=parser.get_format_instructions()\n",
    "    )\n",
    "    response = llm([HumanMessage(content=prompt.to_string())])\n",
    "    parsed_items = parser.parse(response.content)\n",
    "\n",
    "    return state.copy(update={\"parsed_items\": parsed_items})"
   ]
  },
  {
   "cell_type": "code",
   "execution_count": null,
   "metadata": {},
   "outputs": [],
   "source": []
  }
 ],
 "metadata": {
  "kernelspec": {
   "display_name": "ai",
   "language": "python",
   "name": "python3"
  },
  "language_info": {
   "codemirror_mode": {
    "name": "ipython",
    "version": 3
   },
   "file_extension": ".py",
   "mimetype": "text/x-python",
   "name": "python",
   "nbconvert_exporter": "python",
   "pygments_lexer": "ipython3",
   "version": "3.10.16"
  }
 },
 "nbformat": 4,
 "nbformat_minor": 2
}
