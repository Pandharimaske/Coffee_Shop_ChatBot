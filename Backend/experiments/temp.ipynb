{
 "cells": [
  {
   "cell_type": "code",
   "execution_count": 2,
   "metadata": {},
   "outputs": [],
   "source": [
    "from langchain_core.messages import BaseMessage, HumanMessage, AIMessage"
   ]
  },
  {
   "cell_type": "code",
   "execution_count": 3,
   "metadata": {},
   "outputs": [],
   "source": [
    "msgs = [\n",
    "    HumanMessage(content=\"Hi, I need help with my order.\"),\n",
    "    AIMessage(content=\"Sure, can you provide the order ID?\")\n",
    "]"
   ]
  },
  {
   "cell_type": "code",
   "execution_count": 5,
   "metadata": {},
   "outputs": [
    {
     "name": "stdout",
     "output_type": "stream",
     "text": [
      "human\n",
      "ai\n"
     ]
    }
   ],
   "source": [
    "for msg in msgs:\n",
    "    print(msg.type)"
   ]
  },
  {
   "cell_type": "code",
   "execution_count": 9,
   "metadata": {},
   "outputs": [
    {
     "name": "stdout",
     "output_type": "stream",
     "text": [
      "User: Hi, I need help with my order.\n",
      "Assistant: Sure, can you provide the order ID?\n"
     ]
    }
   ],
   "source": [
    "formatted_messages = \"\\n\".join(\n",
    "     f\"{'User' if isinstance(m, HumanMessage) else 'Assistant'}: {m.content}\"\n",
    "     for m in msgs if isinstance(m, (HumanMessage, AIMessage))\n",
    "\n",
    ")\n",
    "print(formatted_messages)"
   ]
  },
  {
   "cell_type": "code",
   "execution_count": 2,
   "metadata": {},
   "outputs": [
    {
     "name": "stdout",
     "output_type": "stream",
     "text": [
      "/Users/pandhari/Desktop/Coffee_Shop_ChatBot/Backend\n"
     ]
    }
   ],
   "source": [
    "import os\n",
    "print(os.getcwd())\n",
    "os.chdir(\"../\")"
   ]
  },
  {
   "cell_type": "code",
   "execution_count": 3,
   "metadata": {},
   "outputs": [
    {
     "name": "stdout",
     "output_type": "stream",
     "text": [
      "/Users/pandhari/Desktop/Coffee_Shop_ChatBot\n"
     ]
    }
   ],
   "source": [
    "print(os.getcwd())"
   ]
  },
  {
   "cell_type": "code",
   "execution_count": 4,
   "metadata": {},
   "outputs": [
    {
     "name": "stderr",
     "output_type": "stream",
     "text": [
      "/opt/anaconda3/envs/ai/lib/python3.10/site-packages/tqdm/auto.py:21: TqdmWarning: IProgress not found. Please update jupyter and ipywidgets. See https://ipywidgets.readthedocs.io/en/stable/user_install.html\n",
      "  from .autonotebook import tqdm as notebook_tqdm\n"
     ]
    }
   ],
   "source": [
    "from App.chatbot import get_bot_response"
   ]
  },
  {
   "cell_type": "code",
   "execution_count": 5,
   "metadata": {},
   "outputs": [
    {
     "name": "stdout",
     "output_type": "stream",
     "text": [
      "Starting get Summary\n",
      "Get Messages Starting\n",
      "Saving Messages\n",
      "Serializing Messages\n",
      "{'response': \"Hi Siri, I've got your order ready: 1 Cappuccino for $4.5. Your total comes out to be $4.5. Shall I go ahead and place the order for you?\", 'state': {'user_memory': UserMemory(name='Siri', likes=[], dislikes=[], allergies=[], last_order=None, feedback=[], location=None), 'messages': [HumanMessage(content='i want to order 1 Cappuccino', additional_kwargs={}, response_metadata={}), AIMessage(content=\"Hi Siri, I've got your order ready: 1 Cappuccino for $4.5. Your total comes out to be $4.5. Shall I go ahead and place the order for you?\", additional_kwargs={}, response_metadata={}), HumanMessage(content='i want to order 1 Cappuccino', additional_kwargs={}, response_metadata={}), AIMessage(content=\"Hi Siri, I've got your order ready: 1 Cappuccino for $4.5. Your total comes out to be $4.5. Shall I go ahead and place the order for you?\", additional_kwargs={}, response_metadata={})], 'chat_summary': None, 'user_input': 'i want to order 1 Cappuccino', 'response_message': \"Hi Siri, I've got your order ready: 1 Cappuccino for $4.5. Your total comes out to be $4.5. Shall I go ahead and place the order for you?\", 'decision': <GuardDecisionType.allowed: 'allowed'>, 'target_agent': <AgentType.order_taking_agent: 'order_taking_agent'>, 'order': [{'name': 'Cappuccino', 'quantity': 1, 'per_unit_price': 4.5, 'total_price': 4.5}], 'final_price': 4.5, 'memory_node': False}}\n"
     ]
    }
   ],
   "source": [
    "print(get_bot_response(user_message=\"i want to order 1 Cappuccino\" , user_id=0))"
   ]
  },
  {
   "cell_type": "code",
   "execution_count": null,
   "metadata": {},
   "outputs": [],
   "source": []
  }
 ],
 "metadata": {
  "kernelspec": {
   "display_name": "ai",
   "language": "python",
   "name": "python3"
  },
  "language_info": {
   "codemirror_mode": {
    "name": "ipython",
    "version": 3
   },
   "file_extension": ".py",
   "mimetype": "text/x-python",
   "name": "python",
   "nbconvert_exporter": "python",
   "pygments_lexer": "ipython3",
   "version": "3.10.16"
  }
 },
 "nbformat": 4,
 "nbformat_minor": 2
}
