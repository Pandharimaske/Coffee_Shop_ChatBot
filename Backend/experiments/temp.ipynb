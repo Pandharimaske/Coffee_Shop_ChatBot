{
 "cells": [
  {
   "cell_type": "code",
   "execution_count": 1,
   "metadata": {},
   "outputs": [
    {
     "name": "stdout",
     "output_type": "stream",
     "text": [
      "/Users/pandhari/Desktop/Coffee_Shop_ChatBot/Backend/experiments\n"
     ]
    }
   ],
   "source": [
    "import os\n",
    "print(os.getcwd())\n",
    "os.chdir(\"../\")"
   ]
  },
  {
   "cell_type": "code",
   "execution_count": 2,
   "metadata": {},
   "outputs": [
    {
     "name": "stdout",
     "output_type": "stream",
     "text": [
      "/Users/pandhari/Desktop/Coffee_Shop_ChatBot/Backend\n"
     ]
    }
   ],
   "source": [
    "import os\n",
    "print(os.getcwd())\n",
    "os.chdir(\"../\")"
   ]
  },
  {
   "cell_type": "code",
   "execution_count": 3,
   "metadata": {},
   "outputs": [
    {
     "name": "stdout",
     "output_type": "stream",
     "text": [
      "/Users/pandhari/Desktop/Coffee_Shop_ChatBot\n"
     ]
    }
   ],
   "source": [
    "print(os.getcwd())"
   ]
  },
  {
   "cell_type": "code",
   "execution_count": 4,
   "metadata": {},
   "outputs": [],
   "source": [
    "# from Backend.graph.coffee_shop_graph import build_coffee_shop_graph\n",
    "# build = build_coffee_shop_graph()"
   ]
  },
  {
   "cell_type": "code",
   "execution_count": 5,
   "metadata": {},
   "outputs": [],
   "source": [
    "# from IPython.display import Image , display\n",
    "# display(Image(build.get_graph(xray=True).draw_mermaid_png()))"
   ]
  },
  {
   "cell_type": "code",
   "execution_count": 6,
   "metadata": {},
   "outputs": [],
   "source": [
    "# from Backend.utils.memory_manager import get_user_memory\n",
    "# from Backend.utils.summary_memory import get_summary , get_messages\n",
    "# user_id = 15\n",
    "# state = {\n",
    "#             \"user_memory\": None,\n",
    "#             \"messages\" : [] ,\n",
    "#             \"chat_summary\": \"\",\n",
    "#             \"user_input\": \"\",\n",
    "#             \"response_message\": None,\n",
    "#             \"decision\": None,\n",
    "#             \"target_agent\": None,\n",
    "#             \"order\": [],\n",
    "#             \"final_price\": None,\n",
    "#             \"memory_node\": False,\n",
    "#         }\n",
    "\n",
    "# state[\"user_input\"] = \"Hlo this is aski\"\n",
    "        \n",
    "# state[\"user_memory\"] = get_user_memory(user_id)\n",
    "# state[\"chat_summary\"] = get_summary(id=user_id)\n",
    "# state[\"messages\"] = get_messages(id = user_id)\n",
    "\n",
    "# config = {\n",
    "#         \"configurable\": {\n",
    "#         \"user_id\": user_id\n",
    "#     }\n",
    "# }"
   ]
  },
  {
   "cell_type": "code",
   "execution_count": 7,
   "metadata": {},
   "outputs": [],
   "source": [
    "# build.stream(state , config)"
   ]
  },
  {
   "cell_type": "code",
   "execution_count": 8,
   "metadata": {},
   "outputs": [
    {
     "name": "stderr",
     "output_type": "stream",
     "text": [
      "/opt/anaconda3/envs/ai/lib/python3.10/site-packages/tqdm/auto.py:21: TqdmWarning: IProgress not found. Please update jupyter and ipywidgets. See https://ipywidgets.readthedocs.io/en/stable/user_install.html\n",
      "  from .autonotebook import tqdm as notebook_tqdm\n"
     ]
    }
   ],
   "source": [
    "from App.chatbot import get_bot_response"
   ]
  },
  {
   "cell_type": "code",
   "execution_count": 9,
   "metadata": {},
   "outputs": [
    {
     "name": "stdout",
     "output_type": "stream",
     "text": [
      "Started Get Order\n",
      "Saving Order\n",
      "Started Serializing Order\n",
      "{'response': 'Hi Pratik, I\\'m not sure what you mean by \"safe.\" Are you concerned about the safety of your order or something else? Could you please provide more context or clarify what\\'s on your mind? I\\'m here to help and want to make sure you feel comfortable with your order of 3 Lattes.', 'state': {'user_memory': UserMemory(name='Pratik', likes=[], dislikes=[], allergies=[], last_order=None, feedback=[], location=None), 'messages': [HumanMessage(content='safe', additional_kwargs={}, response_metadata={}), AIMessage(content='Hi Pratik, I\\'m not sure what you mean by \"safe.\" Are you concerned about the safety of your order or something else? Could you please provide more context or clarify what\\'s on your mind? I\\'m here to help and want to make sure you feel comfortable with your order of 3 Lattes.', additional_kwargs={}, response_metadata={}), HumanMessage(content='add 3 Latte to my existing order of 4 Cappuccino', additional_kwargs={}, response_metadata={}), AIMessage(content=\"Hi Pratik, I've updated your order as requested. You now have 4 Cappuccinos and 3 Lattes, which comes out to be ₹18.0 for the Cappuccinos and ₹14.25 for the Lattes. Your new total is ₹32.25. Would you like to proceed with the payment or make any further changes to your order?\", additional_kwargs={}, response_metadata={}), HumanMessage(content='add 4 Cappuccino', additional_kwargs={}, response_metadata={}), AIMessage(content=\"Hi Pratik, I've added 4 Cappuccinos to your order, which comes out to be $18.0. Your total is $18.0. Shall I go ahead and place the order for you? Would you like to pay with card or cash today?\", additional_kwargs={}, response_metadata={}), HumanMessage(content='make my order 2 Lattes', additional_kwargs={}, response_metadata={}), AIMessage(content=\"Hi Pratik, I've got your order ready: 2 Lattes for a total of $9.5. Shall I go ahead and place the order for you? Would you like to pay with card or cash today?\", additional_kwargs={}, response_metadata={})], 'chat_summary': '--- Summary of the conversation ---\\nHere is the updated summary:\\n\\nPratik has placed an order for 3 Lattes, totaling $14.25. The assistant is awaiting payment confirmation, offering options to pay with either card or cash.', 'user_input': 'safe', 'response_message': 'Hi Pratik, I\\'m not sure what you mean by \"safe.\" Are you concerned about the safety of your order or something else? Could you please provide more context or clarify what\\'s on your mind? I\\'m here to help and want to make sure you feel comfortable with your order of 3 Lattes.', 'decision': <GuardDecisionType.not_allowed: 'not allowed'>, 'target_agent': None, 'order': [{'name': 'Cappuccino', 'quantity': 4, 'per_unit_price': 4.5, 'total_price': 18.0}, {'name': 'Latte', 'quantity': 3, 'per_unit_price': 4.75, 'total_price': 14.25}], 'final_price': 32.25, 'memory_node': False}}\n"
     ]
    }
   ],
   "source": [
    "print(get_bot_response(user_input=\"add 3 Latte to my order\" , user_id=15))"
   ]
  },
  {
   "cell_type": "code",
   "execution_count": null,
   "metadata": {},
   "outputs": [],
   "source": []
  }
 ],
 "metadata": {
  "kernelspec": {
   "display_name": "ai",
   "language": "python",
   "name": "python3"
  },
  "language_info": {
   "codemirror_mode": {
    "name": "ipython",
    "version": 3
   },
   "file_extension": ".py",
   "mimetype": "text/x-python",
   "name": "python",
   "nbconvert_exporter": "python",
   "pygments_lexer": "ipython3",
   "version": "3.10.16"
  }
 },
 "nbformat": 4,
 "nbformat_minor": 2
}
