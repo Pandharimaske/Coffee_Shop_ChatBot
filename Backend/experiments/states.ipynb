{
 "cells": [
  {
   "cell_type": "code",
   "execution_count": 10,
   "metadata": {},
   "outputs": [],
   "source": [
    "# 📁 Backend/state/coffee_agent_state.py\n",
    "\n",
    "from typing import Optional, List\n",
    "from pydantic import BaseModel, Field\n",
    "\n",
    "class ProductItem(BaseModel):\n",
    "    name: str = Field(..., description=\"Name of the product\")\n",
    "    quantity: int = Field(..., description=\"Number of units ordered\")\n",
    "    per_unit_price: Optional[float] = Field(None, description=\"Price per unit\")\n",
    "    total_price: Optional[float] = Field(None, description=\"Total price for this item (unit price × quantity)\")\n",
    "\n",
    "class CoffeeAgentState(BaseModel):\n",
    "    name: Optional[str] = Field(None, description=\"Name of the user (if known)\")\n",
    "    order: List[ProductItem] = Field(default_factory=list, description=\"Current list of products added to the order\")\n",
    "    final_price: Optional[float] = Field(None, description=\"Total price after applying discounts (if any)\")"
   ]
  },
  {
   "cell_type": "code",
   "execution_count": 11,
   "metadata": {},
   "outputs": [],
   "source": [
    "# 📁 Backend/state/guard_agent_state.py\n",
    "\n",
    "from typing import Literal, Optional\n",
    "from pydantic import BaseModel, Field\n",
    "\n",
    "class GuardAgentState(CoffeeAgentState):\n",
    "    decision: Optional[Literal[\"allowed\", \"not_allowed\"]] = Field(\n",
    "        None,\n",
    "        description=\"Whether the user query is related to the coffee shop domain\"\n",
    "    )\n",
    "    response_message: Optional[str] = Field(\n",
    "        None,\n",
    "        description=\"Message shown to the user if the query is not allowed (e.g., 'Sorry, I can't help you with that.')\"\n",
    "    )"
   ]
  },
  {
   "cell_type": "code",
   "execution_count": 12,
   "metadata": {},
   "outputs": [],
   "source": [
    "# 📁 Backend/state/classification_agent_state.py\n",
    "\n",
    "from typing import Literal, Optional\n",
    "from pydantic import BaseModel, Field\n",
    "\n",
    "class ClassificationAgentState(CoffeeAgentState):\n",
    "    target_agent: Optional[Literal[\"details_agent\", \"order_taking_agent\", \"recommendation_agent\"]] = Field(\n",
    "        None,\n",
    "        description=\"The selected agent to handle the user's query based on classification\"\n",
    "    )"
   ]
  },
  {
   "cell_type": "code",
   "execution_count": 14,
   "metadata": {},
   "outputs": [],
   "source": [
    "# 📁 Backend/state/details_agent_state.py\n",
    "\n",
    "from typing import Optional\n",
    "from pydantic import BaseModel, Field\n",
    "\n",
    "\n",
    "class DetailsAgentState(CoffeeAgentState):\n",
    "    response_message: Optional[str] = Field(\n",
    "        None,\n",
    "        description=\"Plain text response from the appropriate details tool (availability, price, about us, or RAG)\"\n",
    "    )"
   ]
  }
 ],
 "metadata": {
  "kernelspec": {
   "display_name": "ai",
   "language": "python",
   "name": "python3"
  },
  "language_info": {
   "codemirror_mode": {
    "name": "ipython",
    "version": 3
   },
   "file_extension": ".py",
   "mimetype": "text/x-python",
   "name": "python",
   "nbconvert_exporter": "python",
   "pygments_lexer": "ipython3",
   "version": "3.10.16"
  }
 },
 "nbformat": 4,
 "nbformat_minor": 2
}
