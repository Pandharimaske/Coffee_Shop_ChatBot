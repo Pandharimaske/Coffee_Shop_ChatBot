{
 "cells": [
  {
   "cell_type": "code",
   "execution_count": 1,
   "metadata": {},
   "outputs": [
    {
     "name": "stdout",
     "output_type": "stream",
     "text": [
      "/Users/pandhari/Desktop/Coffee_Shop_ChatBot/Python_Backend/Backend/experiments\n"
     ]
    }
   ],
   "source": [
    "import os\n",
    "print(os.getcwd())\n",
    "os.chdir(\"../\")"
   ]
  },
  {
   "cell_type": "code",
   "execution_count": 2,
   "metadata": {},
   "outputs": [
    {
     "name": "stdout",
     "output_type": "stream",
     "text": [
      "/Users/pandhari/Desktop/Coffee_Shop_ChatBot/Python_Backend/Backend\n"
     ]
    }
   ],
   "source": [
    "import os\n",
    "print(os.getcwd())\n",
    "os.chdir(\"../\")"
   ]
  },
  {
   "cell_type": "code",
   "execution_count": 3,
   "metadata": {},
   "outputs": [
    {
     "name": "stdout",
     "output_type": "stream",
     "text": [
      "/Users/pandhari/Desktop/Coffee_Shop_ChatBot/Python_Backend\n"
     ]
    }
   ],
   "source": [
    "print(os.getcwd())"
   ]
  },
  {
   "cell_type": "code",
   "execution_count": 4,
   "metadata": {},
   "outputs": [
    {
     "name": "stderr",
     "output_type": "stream",
     "text": [
      "/opt/anaconda3/envs/ai/lib/python3.10/site-packages/tqdm/auto.py:21: TqdmWarning: IProgress not found. Please update jupyter and ipywidgets. See https://ipywidgets.readthedocs.io/en/stable/user_install.html\n",
      "  from .autonotebook import tqdm as notebook_tqdm\n"
     ]
    }
   ],
   "source": [
    "from Backend.graph.coffee_shop_graph import build_coffee_shop_graph\n",
    "build = build_coffee_shop_graph()"
   ]
  },
  {
   "cell_type": "code",
   "execution_count": 5,
   "metadata": {},
   "outputs": [],
   "source": [
    "# from IPython.display import Image , display\n",
    "# display(Image(build.get_graph(xray=True).draw_mermaid_png()))"
   ]
  },
  {
   "cell_type": "code",
   "execution_count": 6,
   "metadata": {},
   "outputs": [],
   "source": [
    "from App.chatbot import get_bot_response"
   ]
  },
  {
   "cell_type": "code",
   "execution_count": 12,
   "metadata": {},
   "outputs": [
    {
     "name": "stdout",
     "output_type": "stream",
     "text": [
      "Starting get_user_memory\n",
      "Done get_user_memory\n",
      "Starting get_summary\n",
      "Done get_summary\n",
      "Starting get_messages\n",
      "Done get_messages\n",
      "Starting get_order\n",
      "Started Get Order\n",
      "Done get_order\n"
     ]
    },
    {
     "name": "stderr",
     "output_type": "stream",
     "text": [
      "[2025-08-03 00:09:45,747] ERROR:coffee_bot:chatbot.py:60: Graph invocation failed: Error code: 429 - {'error': {'message': 'Rate limit exceeded: free-models-per-day. Add 10 credits to unlock 1000 free model requests per day', 'code': 429, 'metadata': {'headers': {'X-RateLimit-Limit': '50', 'X-RateLimit-Remaining': '0', 'X-RateLimit-Reset': '1754179200000'}, 'provider_name': None}}, 'user_id': 'user_30jvPVUr1hMqtWo9FKMlkRG7LfX'}\n"
     ]
    },
    {
     "name": "stdout",
     "output_type": "stream",
     "text": [
      "{'response': 'Something went wrong. Please try again later.', 'state': {'user_memory': UserMemory(name=None, likes=[], dislikes=[], allergies=[], last_order=None, feedback=[], location=None), 'messages': [HumanMessage(content='whats the price of Latte and Samosa', additional_kwargs={}, response_metadata={}), AIMessage(content='Sure! A Latte is priced at ₹4.50, and a Samosa is ₹2.00. Would you like to order any of these today? 😊', additional_kwargs={}, response_metadata={}), HumanMessage(content='tell me about cappuccino', additional_kwargs={}, response_metadata={}), AIMessage(content='Our Cappuccino is a beloved classic — a delightful mix of rich espresso, velvety steamed milk, and a gentle layer of foam, all topped with a light dusting of cocoa powder. It’s the perfect treat for anyone who enjoys a creamy yet bold coffee experience.  \\n\\nIt’s priced at $4.50 and has a fantastic rating of 4.7 ⭐. Would you like to know more about customization options or perhaps place an order? 😊', additional_kwargs={}, response_metadata={}), HumanMessage(content='tell me about cappuccino', additional_kwargs={}, response_metadata={}), AIMessage(content='Sure thing! Our Cappuccino is a customer favorite — it’s made with a rich shot of espresso, topped with perfectly steamed milk and a light, airy foam. We finish it off with a delicate dusting of cocoa powder for that little extra treat. It’s balanced, creamy, and just the right amount of cozy in every sip.  \\n\\nIt’s currently rated 4.5 stars, and many of our guests love it for its smooth, comforting flavor. Would you like to know more about customization options, or are you ready to try one (or a few)? 😊', additional_kwargs={}, response_metadata={})], 'chat_summary': \"--- Summary of the conversation ---\\n**Summary:**\\n\\nThe assistant provides delivery services to multiple neighborhoods in Pune, specifically mentioning Koregaon Park, Viman Nagar, Kalyani Nagar, Camp, and Shivaji Nagar. They offer to deliver freshly brewed coffee and treats directly to customers' doorsteps in these areas. The assistant also inquired if the user would like to know more about their menu or place a delivery order.\", 'user_input': 'tell me about wifi availability at shop', 'response_message': None, 'decision': None, 'target_agent': None, 'order': [{'name': 'Cappuccino', 'quantity': 3, 'per_unit_price': 4.5, 'total_price': 13.5}], 'final_price': 13.5, 'memory_node': False}}\n"
     ]
    }
   ],
   "source": [
    "print(get_bot_response(user_input=\"tell me about wifi availability at shop\" , user_id=2))\n"
   ]
  },
  {
   "cell_type": "code",
   "execution_count": 8,
   "metadata": {},
   "outputs": [],
   "source": [
    "from Backend.utils.util import load_vectorstore\n",
    "vectorstore = load_vectorstore()"
   ]
  },
  {
   "cell_type": "code",
   "execution_count": 9,
   "metadata": {},
   "outputs": [
    {
     "name": "stderr",
     "output_type": "stream",
     "text": [
      "/opt/anaconda3/envs/ai/lib/python3.10/site-packages/torch/nn/modules/module.py:1762: FutureWarning: `encoder_attention_mask` is deprecated and will be removed in version 4.55.0 for `BertSdpaSelfAttention.forward`.\n",
      "  return forward_call(*args, **kwargs)\n"
     ]
    }
   ],
   "source": [
    "retriever = vectorstore.as_retriever(search_type=\"similarity\", search_kwargs={\n",
    "            \"k\": 5\n",
    "        })\n",
    "docs = retriever.invoke(\"tell me about cappuccino\")"
   ]
  },
  {
   "cell_type": "code",
   "execution_count": 10,
   "metadata": {},
   "outputs": [
    {
     "data": {
      "text/plain": [
       "[Document(id='c46a4bba-833f-4a0d-bb64-e941a6075030', metadata={'category': 'Coffee', 'name': 'Cappuccino', 'price': 4.5, 'rating': 4.7}, page_content=\"Cappuccino:\\nA rich and creamy cappuccino made with freshly brewed espresso, steamed milk, and a frothy milk cap. This delightful drink offers a perfect balance of bold coffee flavor and smooth milk, making it an ideal companion for relaxing mornings or lively conversations.\\nIngredients: ['Espresso', 'Steamed Milk', 'Milk Foam']\\nPrice: $4.5\\nRating: 4.7\"),\n",
       " Document(id='fea6347c-e8ee-413d-a9d7-a73f21a4752f', metadata={'category': 'Coffee', 'name': 'Latte', 'price': 4.75, 'rating': 4.8}, page_content=\"Latte:\\nSmooth and creamy, our latte combines rich espresso with velvety steamed milk, creating a perfect balance of flavor and texture. Enjoy it as a comforting treat any time of day, whether you're starting your morning or taking a midday break.\\nIngredients: ['Espresso', 'Steamed Milk', 'Milk Foam']\\nPrice: $4.75\\nRating: 4.8\"),\n",
       " Document(id='a4c1b3c2-7ca8-43ce-9d64-e3079b97b457', metadata={'category': 'Coffee', 'name': 'Espresso shot', 'price': 2.0, 'rating': 4.9}, page_content=\"Espresso shot:\\nA bold shot of rich espresso, our espresso is crafted from the finest beans to deliver a robust flavor in every sip. Perfect for a quick pick-me-up, it can also serve as a base for your favorite coffee drinks.\\nIngredients: ['Espresso']\\nPrice: $2.0\\nRating: 4.9\"),\n",
       " Document(id='8f4b108b-5641-4358-afd5-af0d14156028', metadata={'category': 'Bakery', 'name': 'Hazelnut Biscotti', 'price': 2.75, 'rating': 4.4}, page_content=\"Hazelnut Biscotti:\\nThese delicious hazelnut biscotti are perfect for a crunchy treat alongside your coffee. Infused with roasted hazelnuts, they provide a delightful nutty flavor that enhances your coffee experience.\\nIngredients: ['Flour', 'Sugar', 'Hazelnuts', 'Eggs', 'Baking Powder']\\nPrice: $2.75\\nRating: 4.4\"),\n",
       " Document(id='ce4bd28b-42ad-4d5d-a05b-6dedf82c1fd5', metadata={'category': 'Bakery', 'name': 'Chocolate Chip Biscotti', 'price': 2.5, 'rating': 4.6}, page_content=\"Chocolate Chip Biscotti:\\nCrunchy and delightful, this chocolate chip biscotti is perfect for dipping in your coffee or enjoying on its own. Each bite offers a satisfying crunch and a burst of rich chocolate, making it a favorite for any biscotti lover.\\nIngredients: ['Flour', 'Sugar', 'Chocolate Chips', 'Eggs', 'Almonds', 'Baking Powder']\\nPrice: $2.5\\nRating: 4.6\")]"
      ]
     },
     "execution_count": 10,
     "metadata": {},
     "output_type": "execute_result"
    }
   ],
   "source": [
    "docs"
   ]
  },
  {
   "cell_type": "code",
   "execution_count": 11,
   "metadata": {},
   "outputs": [
    {
     "name": "stdout",
     "output_type": "stream",
     "text": [
      "Cappuccino:\n",
      "A rich and creamy cappuccino made with freshly brewed espresso, steamed milk, and a frothy milk cap. This delightful drink offers a perfect balance of bold coffee flavor and smooth milk, making it an ideal companion for relaxing mornings or lively conversations.\n",
      "Ingredients: ['Espresso', 'Steamed Milk', 'Milk Foam']\n",
      "Price: $4.5\n",
      "Rating: 4.7\n",
      "\n",
      "Latte:\n",
      "Smooth and creamy, our latte combines rich espresso with velvety steamed milk, creating a perfect balance of flavor and texture. Enjoy it as a comforting treat any time of day, whether you're starting your morning or taking a midday break.\n",
      "Ingredients: ['Espresso', 'Steamed Milk', 'Milk Foam']\n",
      "Price: $4.75\n",
      "Rating: 4.8\n",
      "\n",
      "Espresso shot:\n",
      "A bold shot of rich espresso, our espresso is crafted from the finest beans to deliver a robust flavor in every sip. Perfect for a quick pick-me-up, it can also serve as a base for your favorite coffee drinks.\n",
      "Ingredients: ['Espresso']\n",
      "Price: $2.0\n",
      "Rating: 4.9\n",
      "\n",
      "Hazelnut Biscotti:\n",
      "These delicious hazelnut biscotti are perfect for a crunchy treat alongside your coffee. Infused with roasted hazelnuts, they provide a delightful nutty flavor that enhances your coffee experience.\n",
      "Ingredients: ['Flour', 'Sugar', 'Hazelnuts', 'Eggs', 'Baking Powder']\n",
      "Price: $2.75\n",
      "Rating: 4.4\n",
      "\n",
      "Chocolate Chip Biscotti:\n",
      "Crunchy and delightful, this chocolate chip biscotti is perfect for dipping in your coffee or enjoying on its own. Each bite offers a satisfying crunch and a burst of rich chocolate, making it a favorite for any biscotti lover.\n",
      "Ingredients: ['Flour', 'Sugar', 'Chocolate Chips', 'Eggs', 'Almonds', 'Baking Powder']\n",
      "Price: $2.5\n",
      "Rating: 4.6\n"
     ]
    }
   ],
   "source": [
    "result_lines = []\n",
    "for doc in docs:\n",
    "    result_lines.append(doc.page_content)\n",
    "\n",
    "print(\"\\n\\n\".join(result_lines))"
   ]
  },
  {
   "cell_type": "code",
   "execution_count": null,
   "metadata": {},
   "outputs": [],
   "source": []
  }
 ],
 "metadata": {
  "kernelspec": {
   "display_name": "ai",
   "language": "python",
   "name": "python3"
  },
  "language_info": {
   "codemirror_mode": {
    "name": "ipython",
    "version": 3
   },
   "file_extension": ".py",
   "mimetype": "text/x-python",
   "name": "python",
   "nbconvert_exporter": "python",
   "pygments_lexer": "ipython3",
   "version": "3.10.16"
  }
 },
 "nbformat": 4,
 "nbformat_minor": 2
}
