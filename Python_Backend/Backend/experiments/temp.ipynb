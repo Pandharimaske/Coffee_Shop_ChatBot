{
 "cells": [
  {
   "cell_type": "code",
   "execution_count": 1,
   "metadata": {},
   "outputs": [
    {
     "data": {
      "text/plain": [
       "True"
      ]
     },
     "execution_count": 1,
     "metadata": {},
     "output_type": "execute_result"
    }
   ],
   "source": [
    "import os\n",
    "from dotenv import load_dotenv\n",
    "load_dotenv()"
   ]
  },
  {
   "cell_type": "code",
   "execution_count": 2,
   "metadata": {},
   "outputs": [
    {
     "name": "stdout",
     "output_type": "stream",
     "text": [
      "/Users/pandhari/Desktop/Coffee_Shop_ChatBot/Python_Backend/Backend/experiments\n"
     ]
    }
   ],
   "source": [
    "import os\n",
    "print(os.getcwd())\n",
    "os.chdir(\"../\")"
   ]
  },
  {
   "cell_type": "code",
   "execution_count": 3,
   "metadata": {},
   "outputs": [
    {
     "name": "stdout",
     "output_type": "stream",
     "text": [
      "/Users/pandhari/Desktop/Coffee_Shop_ChatBot/Python_Backend/Backend\n"
     ]
    }
   ],
   "source": [
    "import os\n",
    "print(os.getcwd())\n",
    "os.chdir(\"../\")"
   ]
  },
  {
   "cell_type": "code",
   "execution_count": 4,
   "metadata": {},
   "outputs": [
    {
     "name": "stdout",
     "output_type": "stream",
     "text": [
      "/Users/pandhari/Desktop/Coffee_Shop_ChatBot/Python_Backend\n"
     ]
    }
   ],
   "source": [
    "print(os.getcwd())"
   ]
  },
  {
   "cell_type": "code",
   "execution_count": null,
   "metadata": {},
   "outputs": [
    {
     "name": "stderr",
     "output_type": "stream",
     "text": [
      "/opt/anaconda3/envs/ai/lib/python3.10/site-packages/tqdm/auto.py:21: TqdmWarning: IProgress not found. Please update jupyter and ipywidgets. See https://ipywidgets.readthedocs.io/en/stable/user_install.html\n",
      "  from .autonotebook import tqdm as notebook_tqdm\n"
     ]
    },
    {
     "name": "stderr",
     "output_type": "stream",
     "text": [
      "INFO:     Started server process [81996]\n",
      "INFO:     Waiting for application startup.\n",
      "INFO:     Application startup complete.\n",
      "INFO:     Uvicorn running on http://127.0.0.1:8000 (Press CTRL+C to quit)\n"
     ]
    }
   ],
   "source": [
    "import uvicorn\n",
    "\n",
    "# Run your FastAPI app in the notebook process\n",
    "# This will block, so best to run in a thread\n",
    "import threading\n",
    "from App.main import app\n",
    "\n",
    "def run_app():\n",
    "    uvicorn.run(app, host=\"127.0.0.1\", port=8000)\n",
    "\n",
    "thread = threading.Thread(target=run_app, daemon=True)\n",
    "thread.start()"
   ]
  },
  {
   "cell_type": "code",
   "execution_count": 9,
   "metadata": {},
   "outputs": [
    {
     "name": "stdout",
     "output_type": "stream",
     "text": [
      "Chunk: Hi\n",
      "Chunk:  Pand\n",
      "Chunk: hari\n",
      "Chunk: ,\n",
      "Chunk:  I\n",
      "Chunk: 'd\n",
      "Chunk:  be\n",
      "Chunk:  happy\n",
      "Chunk:  to\n",
      "Chunk:  tell\n",
      "Chunk:  you\n",
      "Chunk:  about\n",
      "Chunk:  our\n",
      "Chunk:  c\n",
      "Chunk: app\n",
      "Chunk: ucc\n",
      "Chunk: ino\n",
      "Chunk: .\n",
      "Chunk:  It\n",
      "Chunk: 's\n",
      "Chunk:  a\n",
      "Chunk:  rich\n",
      "Chunk:  and\n",
      "Chunk:  creamy\n",
      "Chunk:  drink\n",
      "Chunk:  made\n",
      "Chunk:  with\n",
      "Chunk:  freshly\n",
      "Chunk:  brewed\n",
      "Chunk:  espresso\n",
      "Chunk: ,\n",
      "Chunk:  ste\n",
      "Chunk: amed\n",
      "Chunk:  milk\n",
      "Chunk: ,\n",
      "Chunk:  and\n",
      "Chunk:  a\n",
      "Chunk:  fro\n",
      "Chunk: thy\n",
      "Chunk:  milk\n",
      "Chunk:  cap\n",
      "Chunk: .\n",
      "Chunk:  Our\n",
      "Chunk:  c\n",
      "Chunk: app\n",
      "Chunk: ucc\n",
      "Chunk: ino\n",
      "Chunk:  offers\n",
      "Chunk:  a\n",
      "Chunk:  perfect\n",
      "Chunk:  balance\n",
      "Chunk:  of\n",
      "Chunk:  bold\n",
      "Chunk:  coffee\n",
      "Chunk:  flavor\n",
      "Chunk:  and\n",
      "Chunk:  smooth\n",
      "Chunk:  milk\n",
      "Chunk: ,\n",
      "Chunk:  making\n",
      "Chunk:  it\n",
      "Chunk:  an\n",
      "Chunk:  ideal\n",
      "Chunk:  companion\n",
      "Chunk:  for\n",
      "Chunk:  relaxing\n",
      "Chunk:  mornings\n",
      "Chunk:  or\n",
      "Chunk:  lively\n",
      "Chunk:  conversations\n",
      "Chunk: .\n",
      "Chunk:  The\n",
      "Chunk:  price\n",
      "Chunk:  of\n",
      "Chunk:  our\n",
      "Chunk:  c\n",
      "Chunk: app\n",
      "Chunk: ucc\n",
      "Chunk: ino\n",
      "Chunk:  is\n",
      "Chunk:  $\n",
      "Chunk: 4\n",
      "Chunk: .\n",
      "Chunk: 5\n",
      "Chunk: ,\n",
      "Chunk:  and\n",
      "Chunk:  it\n",
      "Chunk:  has\n",
      "Chunk:  a\n",
      "Chunk:  rating\n",
      "Chunk:  of\n",
      "Chunk:  \n",
      "Chunk: 4\n",
      "Chunk: .\n",
      "Chunk: 7\n",
      "Chunk: .\n",
      "Chunk:  Would\n",
      "Chunk:  you\n",
      "Chunk:  like\n",
      "Chunk:  to\n",
      "Chunk:  try\n",
      "Chunk:  one\n",
      "Chunk:  today\n",
      "Chunk: ?\n"
     ]
    }
   ],
   "source": [
    "import httpx\n",
    "from sseclient import SSEClient\n",
    "\n",
    "url = \"http://127.0.0.1:8000/chat/stream\"\n",
    "payload = {\"user_input\": \"Tell me about cappuccino\", \"user_id\": 3}\n",
    "\n",
    "with httpx.stream(\"POST\", url, json=payload, timeout=None) as response:\n",
    "    client = SSEClient(response.iter_raw())\n",
    "    for event in client.events():\n",
    "        print(\"Chunk:\", event.data)"
   ]
  },
  {
   "cell_type": "code",
   "execution_count": 6,
   "metadata": {},
   "outputs": [],
   "source": [
    "from Backend.graph.coffee_shop_graph import build_coffee_shop_graph\n",
    "build = build_coffee_shop_graph()"
   ]
  },
  {
   "cell_type": "code",
   "execution_count": null,
   "metadata": {},
   "outputs": [
    {
     "data": {
      "image/png": "[encoded data removed]",
      "text/plain": [
       "<IPython.core.display.Image object>"
      ]
     },
     "metadata": {},
     "output_type": "display_data"
    }
   ],
   "source": [
    "from IPython.display import Image , display\n",
    "display(Image(build.get_graph(xray=True).draw_mermaid_png()))"
   ]
  },
  {
   "cell_type": "code",
   "execution_count": 7,
   "metadata": {},
   "outputs": [],
   "source": [
    "from App.chatbot import get_bot_response"
   ]
  },
  {
   "cell_type": "code",
   "execution_count": 10,
   "metadata": {},
   "outputs": [
    {
     "name": "stdout",
     "output_type": "stream",
     "text": [
      "Starting get_user_memory\n",
      "Done get_user_memory\n",
      "Starting get_summary\n",
      "Done get_summary\n",
      "Starting get_messages\n",
      "Done get_messages\n",
      "Starting get_order\n",
      "Started Get Order\n",
      "Done get_order\n",
      "items=[ProductItemInput(name='Samosa', quantity=2)]\n",
      "{'user_memory': UserMemory(name='Pratik', likes=[], dislikes=[], allergies=[], last_order=None, feedback=[], location=None), 'messages': [], 'chat_summary': '', 'user_input': 'I want to order 2 Samosa.', 'response_message': \"\\n\\nTotal (for available items): $0\\n\\nHowever, some items that we don't serve in our coffee shop:\\n❌ Samosa\\nWould you like to replace them?Recommendations with this order : []\", 'decision': <GuardDecisionType.allowed: 'allowed'>, 'target_agent': <AgentType.order_taking_agent: 'order_taking_agent'>, 'order': [], 'final_price': 0, 'memory_node': False}\n"
     ]
    }
   ],
   "source": [
    "print(get_bot_response(user_input=\"I want to order 2 Samosa\" , user_id=15))\n"
   ]
  },
  {
   "cell_type": "code",
   "execution_count": null,
   "metadata": {},
   "outputs": [],
   "source": [
    "!pip show langchain_groq"
   ]
  },
  {
   "cell_type": "code",
   "execution_count": null,
   "metadata": {},
   "outputs": [],
   "source": [
    "\n",
    "from Backend.utils.memory_manager import get_user_memory\n",
    "from Backend.utils.summary_memory import get_summary , get_messages , get_order\n",
    "\n",
    "graph = build_coffee_shop_graph() "
   ]
  },
  {
   "cell_type": "code",
   "execution_count": null,
   "metadata": {},
   "outputs": [],
   "source": [
    "import asyncio\n",
    "import json\n",
    "from rich import print\n",
    "\n",
    "async def test_graph_stream(user_input: str, user_id: int):\n",
    "    state = {\n",
    "        \"user_memory\": None,\n",
    "        \"messages\": [],\n",
    "        \"chat_summary\": \"\",\n",
    "        \"user_input\": \"\",\n",
    "        \"response_message\": None,\n",
    "        \"decision\": None,\n",
    "        \"target_agent\": None,\n",
    "        \"order\": [],\n",
    "        \"final_price\": None,\n",
    "        \"memory_node\": False,\n",
    "    }\n",
    "\n",
    "    state[\"user_input\"] = user_input\n",
    "    state[\"user_memory\"] = get_user_memory(user_id)\n",
    "    state[\"chat_summary\"] = get_summary(id=user_id)\n",
    "    state[\"messages\"] = get_messages(id=user_id)\n",
    "    state[\"order\"], state[\"final_price\"] = get_order(id=user_id)\n",
    "\n",
    "    config = {\n",
    "        \"configurable\": {\n",
    "            \"user_id\": user_id\n",
    "        }\n",
    "    }\n",
    "\n",
    "    print(\"[bold green]🚀 Starting graph stream...[/bold green]\\n\")\n",
    "\n",
    "    async for event in graph.astream(state, config=config):\n",
    "        if \"node\" in event:\n",
    "            node = event[\"node\"]\n",
    "            print(f\"[bold blue]🔧 Node running: {node}[/bold blue]\")\n",
    "        if \"at\" in event:\n",
    "            print(f\"[dim]🕒 {event['at']}[/dim]\")\n",
    "\n",
    "    print(\"\\n✅ [bold green]Done.[/bold green]\")\n",
    "\n",
    "# Run it\n",
    "await test_graph_stream(\"I want to order it\", user_id=123)"
   ]
  },
  {
   "cell_type": "code",
   "execution_count": null,
   "metadata": {},
   "outputs": [],
   "source": [
    "from typing import List, Callable, Optional, Type\n",
    "from pydantic import BaseModel\n",
    "\n",
    "def call_with_fallback(\n",
    "    model_factories: List[Callable],\n",
    "    prompt: str,\n",
    "    schema: Optional[Type[BaseModel]] = None,\n",
    "    temperature: float = 0.0,\n",
    "):\n",
    "    \"\"\"\n",
    "    Call multiple LLMs in fallback order.\n",
    "    Supports both simple and structured outputs.\n",
    "    \n",
    "    Args:\n",
    "        model_factories: List of model factory callables (lambda **kw: LLM(...))\n",
    "        prompt: User input or task instruction\n",
    "        schema: Optional Pydantic model for structured output\n",
    "        temperature: Sampling temperature for all LLMs\n",
    "    \n",
    "    Returns:\n",
    "        LLM response (str if schema=None, else schema instance)\n",
    "    \"\"\"\n",
    "    last_error = None\n",
    "    \n",
    "    for factory in model_factories:\n",
    "        try:\n",
    "            llm = factory(temperature=temperature)\n",
    "            \n",
    "            if schema:\n",
    "                # Structured output case\n",
    "                structured_llm = llm.with_structured_output(schema)\n",
    "                return structured_llm.invoke(prompt)\n",
    "            else:\n",
    "                # Simple output case\n",
    "                return llm.invoke(prompt)\n",
    "                \n",
    "        except Exception as e:\n",
    "            print(f\"⚠️ {factory.__name__} failed: {e}\")\n",
    "            last_error = e\n",
    "            continue\n",
    "    \n",
    "    raise RuntimeError(f\"All models failed. Last error: {last_error}\")"
   ]
  },
  {
   "cell_type": "code",
   "execution_count": null,
   "metadata": {},
   "outputs": [],
   "source": []
  }
 ],
 "metadata": {
  "kernelspec": {
   "display_name": "ai",
   "language": "python",
   "name": "python3"
  },
  "language_info": {
   "codemirror_mode": {
    "name": "ipython",
    "version": 3
   },
   "file_extension": ".py",
   "mimetype": "text/x-python",
   "name": "python",
   "nbconvert_exporter": "python",
   "pygments_lexer": "ipython3",
   "version": "3.10.16"
  }
 },
 "nbformat": 4,
 "nbformat_minor": 2
}
