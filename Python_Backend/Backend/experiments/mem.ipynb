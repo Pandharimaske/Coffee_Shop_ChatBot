{
 "cells": [
  {
   "cell_type": "code",
   "execution_count": 30,
   "id": "4c24fec5",
   "metadata": {},
   "outputs": [],
   "source": [
    "from supabase import create_client\n",
    "from dotenv import load_dotenv\n",
    "import os\n",
    "from datetime import datetime\n",
    "\n",
    "load_dotenv()\n",
    "supabase = create_client(os.getenv(\"SUPABASE_URL\"), os.getenv(\"SUPABASE_KEY\"))\n",
    "\n",
    "def upsert_user_memory(memory_data: dict):\n",
    "    memory_data[\"created_at\"] = datetime.utcnow().isoformat()\n",
    "    return supabase.table(\"User_Profiles\").upsert(memory_data).execute()"
   ]
  },
  {
   "cell_type": "code",
   "execution_count": 31,
   "id": "52c28dfa",
   "metadata": {},
   "outputs": [],
   "source": [
    "def get_user_memory(user_id: int) -> dict:\n",
    "    res = supabase.table(\"User_Profiles\").select(\"*\").eq(\"id\", user_id).execute()\n",
    "    return res.data[0] if res.data else {}"
   ]
  },
  {
   "cell_type": "code",
   "execution_count": 32,
   "id": "b88f8989",
   "metadata": {},
   "outputs": [],
   "source": [
    "def update_user_fields(user_id: int, fields: dict):\n",
    "    fields[\"created_at\"] = datetime.utcnow().isoformat()\n",
    "    return supabase.table(\"User_Profiles\").update(fields).eq(\"id\", user_id).execute()"
   ]
  },
  {
   "cell_type": "code",
   "execution_count": 33,
   "id": "24def46b",
   "metadata": {},
   "outputs": [
    {
     "data": {
      "text/plain": [
       "APIResponse[~_ReturnT](data=[{'id': 123, 'created_at': '2025-07-05T10:48:49.547116+00:00', 'name': 'Paddy', 'location': 'Pune', 'likes': ['vanilla', 'hazelnut'], 'dislikes': ['too much milk'], 'allergies': ['nuts']}], count=None)"
      ]
     },
     "execution_count": 33,
     "metadata": {},
     "output_type": "execute_result"
    }
   ],
   "source": [
    "update_user_fields(123, {\"likes\": [\"vanilla\", \"hazelnut\"]})"
   ]
  },
  {
   "cell_type": "code",
   "execution_count": 34,
   "id": "b4bc10dd",
   "metadata": {},
   "outputs": [],
   "source": [
    "def delete_user_memory(user_id:int):\n",
    "    return supabase.table(\"User_Profiles\").delete().eq(\"id\", user_id).execute()"
   ]
  },
  {
   "cell_type": "code",
   "execution_count": 35,
   "id": "66b31bf5",
   "metadata": {},
   "outputs": [
    {
     "name": "stdout",
     "output_type": "stream",
     "text": [
      "Upserting...\n",
      "data=[{'id': 234, 'created_at': '2025-07-05T10:48:53.262985+00:00', 'name': 'Pandhari', 'location': 'Parbhani', 'likes': ['strong coffee'], 'dislikes': None, 'allergies': ['nuts']}] count=None\n",
      "\n",
      "Fetching...\n",
      "{'id': 234, 'created_at': '2025-07-05T10:48:53.262985+00:00', 'name': 'Pandhari', 'location': 'Parbhani', 'likes': ['strong coffee'], 'dislikes': None, 'allergies': ['nuts']}\n",
      "\n",
      "Updating allergies...\n",
      "data=[{'id': 234, 'created_at': '2025-07-05T10:48:53.835204+00:00', 'name': 'Pandhari', 'location': 'Parbhani', 'likes': ['strong coffee'], 'dislikes': None, 'allergies': ['dairy', 'nuts']}] count=None\n"
     ]
    }
   ],
   "source": [
    "user_id = 234  # use an existing or new UUID\n",
    "\n",
    "# Upsert memory\n",
    "memory_data = {\n",
    "    \"id\": user_id,\n",
    "    \"name\": \"Pandhari\",\n",
    "    \"likes\": [\"strong coffee\"],\n",
    "    \"allergies\": [\"nuts\"],\n",
    "    \"location\": \"Parbhani\",\n",
    "}\n",
    "print(\"Upserting...\")\n",
    "print(upsert_user_memory(memory_data))\n",
    "\n",
    "# Get memory\n",
    "print(\"\\nFetching...\")\n",
    "print(get_user_memory(user_id))\n",
    "\n",
    "# Update specific field\n",
    "print(\"\\nUpdating allergies...\")\n",
    "print(update_user_fields(user_id, {\"allergies\": [\"dairy\", \"nuts\"]}))\n",
    "\n",
    "# Delete memory\n",
    "# print(\"\\nDeleting...\")\n",
    "# print(delete_user_memory(user_id))"
   ]
  },
  {
   "cell_type": "code",
   "execution_count": null,
   "id": "0fb9cf0b",
   "metadata": {},
   "outputs": [],
   "source": []
  },
  {
   "cell_type": "code",
   "execution_count": null,
   "id": "ae41c63c",
   "metadata": {},
   "outputs": [],
   "source": []
  },
  {
   "cell_type": "code",
   "execution_count": 37,
   "id": "68eca5f9",
   "metadata": {},
   "outputs": [],
   "source": [
    "# Backend/memory/supabase_client.py\n",
    "from supabase import create_client\n",
    "import os\n",
    "from dotenv import load_dotenv\n",
    "\n",
    "load_dotenv()\n",
    "supabase = create_client(os.getenv(\"SUPABASE_URL\"), os.getenv(\"SUPABASE_KEY\"))"
   ]
  },
  {
   "cell_type": "code",
   "execution_count": null,
   "id": "43a35dae",
   "metadata": {},
   "outputs": [],
   "source": [
    "from typing import Optional\n",
    "from datetime import datetime\n",
    "\n",
    "\n",
    "\n",
    "\n",
    "def get_user_memory(user_id: str) -> UserMemory:\n",
    "    res = supabase.table(\"User_Profiles\").select(\"*\").eq(\"id\", user_id).execute()\n",
    "    data = res.data[0] if res.data else {}\n",
    "    return UserMemory(**data)\n",
    "\n",
    "\n",
    "def save_user_memory(user_id: str, memory: UserMemory):\n",
    "    payload = memory.dict()\n",
    "    payload[\"id\"] = user_id\n",
    "    payload[\"last_updated\"] = datetime.utcnow().isoformat()\n",
    "    supabase.table(\"User_Profiles\").upsert(payload).execute()"
   ]
  },
  {
   "cell_type": "code",
   "execution_count": 41,
   "id": "f8bf65d0",
   "metadata": {},
   "outputs": [],
   "source": [
    "def merge_and_update_memory(user_id: str, updates: dict) -> UserMemory:\n",
    "    existing = get_user_memory(user_id)\n",
    "\n",
    "    for key, new_val in updates.items():\n",
    "        if isinstance(new_val, list):\n",
    "            current = getattr(existing, key, [])\n",
    "            merged = list(set(current + new_val))\n",
    "            setattr(existing, key, merged)\n",
    "        else:\n",
    "            setattr(existing, key, new_val)\n",
    "\n",
    "    save_user_memory(user_id, existing)\n",
    "    return existing"
   ]
  },
  {
   "cell_type": "code",
   "execution_count": 42,
   "id": "0466a8dd",
   "metadata": {},
   "outputs": [],
   "source": [
    "def remove_from_memory(user_id: str, to_remove: dict) -> UserMemory:\n",
    "    existing = get_user_memory(user_id)\n",
    "\n",
    "    for field, values in to_remove.items():\n",
    "        if isinstance(values, list) and hasattr(existing, field):\n",
    "            current = getattr(existing, field, [])\n",
    "            filtered = [v for v in current if v.lower() not in map(str.lower, values)]\n",
    "            setattr(existing, field, filtered)\n",
    "        elif isinstance(values, str) and hasattr(existing, field):\n",
    "            if getattr(existing, field) == values:\n",
    "                setattr(existing, field, None)\n",
    "\n",
    "    save_user_memory(user_id, existing)\n",
    "    return existing"
   ]
  },
  {
   "cell_type": "code",
   "execution_count": 45,
   "id": "badca7a2",
   "metadata": {},
   "outputs": [
    {
     "name": "stderr",
     "output_type": "stream",
     "text": [
      "/var/folders/42/94lj0cp519ncj7_m79j3_h3m0000gn/T/ipykernel_9000/2950491926.py:14: PydanticDeprecatedSince20: The `dict` method is deprecated; use `model_dump` instead. Deprecated in Pydantic V2.0 to be removed in V3.0. See Pydantic V2 Migration Guide at https://errors.pydantic.dev/2.11/migration/\n",
      "  payload = memory.dict()\n"
     ]
    },
    {
     "data": {
      "text/plain": [
       "UserMemory(name='Paddy', likes=['vanilla', 'hazelnut'], dislikes=[], allergies=[], location=None)"
      ]
     },
     "execution_count": 45,
     "metadata": {},
     "output_type": "execute_result"
    }
   ],
   "source": [
    "# Upsert\n",
    "save_user_memory(12, UserMemory(name=\"Paddy\", likes=[\"vanilla\"]))\n",
    "\n",
    "# Merge likes\n",
    "merge_and_update_memory(12, {\"likes\": [\"hazelnut\"]})\n",
    "\n",
    "# Remove dislikes\n",
    "remove_from_memory(12, {\"dislikes\": [\"too much milk\"]})"
   ]
  },
  {
   "cell_type": "code",
   "execution_count": 47,
   "id": "58bf03b8",
   "metadata": {},
   "outputs": [
    {
     "name": "stderr",
     "output_type": "stream",
     "text": [
      "/var/folders/42/94lj0cp519ncj7_m79j3_h3m0000gn/T/ipykernel_9000/2950491926.py:14: PydanticDeprecatedSince20: The `dict` method is deprecated; use `model_dump` instead. Deprecated in Pydantic V2.0 to be removed in V3.0. See Pydantic V2 Migration Guide at https://errors.pydantic.dev/2.11/migration/\n",
      "  payload = memory.dict()\n"
     ]
    },
    {
     "data": {
      "text/plain": [
       "UserMemory(name='kd', likes=['vanilla', 'hazelnut'], dislikes=['Latte'], allergies=[], location=None)"
      ]
     },
     "execution_count": 47,
     "metadata": {},
     "output_type": "execute_result"
    }
   ],
   "source": [
    "merge_and_update_memory(12, {\"name\": \"kd\"})"
   ]
  },
  {
   "cell_type": "code",
   "execution_count": null,
   "id": "f4983017",
   "metadata": {},
   "outputs": [],
   "source": []
  }
 ],
 "metadata": {
  "kernelspec": {
   "display_name": "ai",
   "language": "python",
   "name": "python3"
  },
  "language_info": {
   "codemirror_mode": {
    "name": "ipython",
    "version": 3
   },
   "file_extension": ".py",
   "mimetype": "text/x-python",
   "name": "python",
   "nbconvert_exporter": "python",
   "pygments_lexer": "ipython3",
   "version": "3.10.16"
  }
 },
 "nbformat": 4,
 "nbformat_minor": 5
}
